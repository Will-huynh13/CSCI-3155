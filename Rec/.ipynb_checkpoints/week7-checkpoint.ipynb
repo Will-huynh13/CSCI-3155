{
 "cells": [
  {
   "cell_type": "markdown",
   "metadata": {},
   "source": [
    "# Functions with Multiple Parameters vs. Curried Functions  "
   ]
  },
  {
   "cell_type": "code",
   "execution_count": 71,
   "metadata": {},
   "outputs": [
    {
     "name": "stderr",
     "output_type": "stream",
     "text": [
      "cmd71.sc:3: not enough arguments for method addTwo: (x: Int, y: Int)Int.\n",
      "Unspecified value parameter y.\n",
      "val x = addTwo(10) // Error\n",
      "              ^Compilation Failed"
     ]
    },
    {
     "ename": "",
     "evalue": "",
     "output_type": "error",
     "traceback": [
      "Compilation Failed"
     ]
    }
   ],
   "source": [
    "// Multiple argument functions\n",
    "def addTwo (x: Int, y: Int): Int = x + y\n",
    "\n",
    "val x = addTwo(10) // Error"
   ]
  },
  {
   "cell_type": "markdown",
   "metadata": {},
   "source": [
    "Note the type of addTwo is `(Int, Int) => Int`"
   ]
  },
  {
   "cell_type": "code",
   "execution_count": 8,
   "metadata": {},
   "outputs": [
    {
     "data": {
      "text/plain": [
       "defined \u001b[32mfunction\u001b[39m \u001b[36mcurriedAddTwo\u001b[39m"
      ]
     },
     "execution_count": 8,
     "metadata": {},
     "output_type": "execute_result"
    }
   ],
   "source": [
    "// Scala supports curried functions: sort of.\n",
    "\n",
    "def curriedAddTwo (x: Int) (y: Int) = x + y "
   ]
  },
  {
   "cell_type": "markdown",
   "metadata": {},
   "source": [
    "Note the type of curriedAddTwo is `Int => (Int => Int)`.\n",
    "\n",
    "  - If you give it a number, it returns a function from number to number."
   ]
  },
  {
   "cell_type": "code",
   "execution_count": null,
   "metadata": {},
   "outputs": [],
   "source": [
    "val f1 = curriedAddTwo(15)\n",
    "// Oops.. scala does not allow this syntax although lettuce does."
   ]
  },
  {
   "cell_type": "code",
   "execution_count": null,
   "metadata": {},
   "outputs": [],
   "source": [
    "val f1 = curriedAddTwo (15)(_)\n",
    "// f1 has plugged in x but y has not be set. Remember _ makes it an anonymous function\n",
    "val x = f1(20)\n",
    "val y = f1(30)\n",
    "val z = f1(45)"
   ]
  },
  {
   "cell_type": "code",
   "execution_count": null,
   "metadata": {},
   "outputs": [],
   "source": [
    "// Currying in anonymous function syntax\n",
    "val curriedAddTwoAnon = (x: Int) => { (y:Int) => (x + y) } "
   ]
  },
  {
   "cell_type": "code",
   "execution_count": null,
   "metadata": {},
   "outputs": [],
   "source": [
    "val f1 = curriedAddTwoAnon(15) // Now this is closer to lettuce syntax\n",
    "val f2 = curriedAddTwoAnon(15)(_) // This is also OK"
   ]
  },
  {
   "cell_type": "markdown",
   "metadata": {},
   "source": [
    "# Handling Recursion using Environments\n",
    "\n",
    "Below is a Scala implementation of the circular scope"
   ]
  },
  {
   "cell_type": "code",
   "execution_count": 17,
   "metadata": {},
   "outputs": [
    {
     "data": {
      "text/plain": [
       "defined \u001b[32mtrait\u001b[39m \u001b[36mProgram\u001b[39m\n",
       "defined \u001b[32mtrait\u001b[39m \u001b[36mExpr\u001b[39m\n",
       "defined \u001b[32mclass\u001b[39m \u001b[36mConst\u001b[39m\n",
       "defined \u001b[32mclass\u001b[39m \u001b[36mIdent\u001b[39m\n",
       "defined \u001b[32mclass\u001b[39m \u001b[36mMinus\u001b[39m\n",
       "defined \u001b[32mclass\u001b[39m \u001b[36mPlus\u001b[39m\n",
       "defined \u001b[32mclass\u001b[39m \u001b[36mMult\u001b[39m\n",
       "defined \u001b[32mclass\u001b[39m \u001b[36mEq\u001b[39m\n",
       "defined \u001b[32mclass\u001b[39m \u001b[36mGeq\u001b[39m\n",
       "defined \u001b[32mclass\u001b[39m \u001b[36mIfThenElse\u001b[39m\n",
       "defined \u001b[32mclass\u001b[39m \u001b[36mLet\u001b[39m\n",
       "defined \u001b[32mclass\u001b[39m \u001b[36mFunDef\u001b[39m\n",
       "defined \u001b[32mclass\u001b[39m \u001b[36mFunCall\u001b[39m\n",
       "defined \u001b[32mclass\u001b[39m \u001b[36mLetRec\u001b[39m\n",
       "defined \u001b[32mclass\u001b[39m \u001b[36mTopLevel\u001b[39m"
      ]
     },
     "execution_count": 17,
     "metadata": {},
     "output_type": "execute_result"
    }
   ],
   "source": [
    "sealed trait Program\n",
    "sealed trait Expr\n",
    "case class Const(f: Double) extends Expr {\n",
    "    override def toString(): String = f.toString\n",
    "}\n",
    "case class Ident(s: String) extends Expr {\n",
    "    override def toString(): String = s\n",
    "}\n",
    "case class Minus(e1: Expr, e2: Expr) extends Expr {\n",
    "    override def toString(): String = s\"(${e1.toString} - ${e2.toString})\"\n",
    "}\n",
    "case class Plus(e1: Expr, e2: Expr) extends Expr {\n",
    "    override def toString(): String = s\"(${e1.toString} + ${e2.toString})\"\n",
    "}\n",
    "case class Mult(e1: Expr, e2: Expr) extends Expr {\n",
    "    override def toString(): String = s\"(${e1.toString} * ${e2.toString})\"\n",
    "}\n",
    "case class Eq(e1: Expr, e2: Expr) extends Expr {\n",
    "    override def toString(): String = s\"(${e1.toString} == ${e2.toString})\"\n",
    "}\n",
    "case class Geq(e1: Expr, e2: Expr) extends Expr {\n",
    "    override def toString(): String = s\"(${e1.toString} >= ${e2.toString})\"\n",
    "}\n",
    "case class IfThenElse(e1: Expr, e2: Expr, e3: Expr) extends Expr {\n",
    "    override def toString(): String = s\"if (${e1.toString}) ${e2.toString} else ${e3.toString}\"\n",
    "}\n",
    "case class Let(x: String, e1: Expr, e2: Expr) extends Expr {\n",
    "    override def toString(): String = s\"let $x = ${e1.toString} in ${e2.toString}\"\n",
    "}\n",
    "case class FunDef(id: String, e: Expr) extends Expr {\n",
    "    override def toString(): String = s\"fun $id = ${e.toString}\"\n",
    "}\n",
    "case class FunCall(calledFun: Expr, argExpr: Expr) extends Expr {\n",
    "    override def toString(): String = s\"$calledFun(${argExpr.toString})\"\n",
    "}\n",
    "/* Here is the new stuff */\n",
    "case class LetRec(funName: String, param: String, funExpr: Expr, bodyExpr: Expr) extends Expr {\n",
    "    override def toString(): String = s\"let rec $funName($param) = ${funExpr.toString} in ${bodyExpr.toString}\"\n",
    "}\n",
    "\n",
    "case class TopLevel(e: Expr) extends Program {\n",
    "    override def toString(): String = e.toString\n",
    "}"
   ]
  },
  {
   "cell_type": "code",
   "execution_count": 62,
   "metadata": {},
   "outputs": [
    {
     "data": {
      "text/plain": [
       "defined \u001b[32mtrait\u001b[39m \u001b[36mEnvironment\u001b[39m\n",
       "defined \u001b[32mtrait\u001b[39m \u001b[36mValue\u001b[39m\n",
       "defined \u001b[32mobject\u001b[39m \u001b[36mEmptyEnv\u001b[39m\n",
       "defined \u001b[32mclass\u001b[39m \u001b[36mExtend\u001b[39m\n",
       "defined \u001b[32mclass\u001b[39m \u001b[36mExtendRec\u001b[39m\n",
       "defined \u001b[32mclass\u001b[39m \u001b[36mNumValue\u001b[39m\n",
       "defined \u001b[32mclass\u001b[39m \u001b[36mBoolValue\u001b[39m\n",
       "defined \u001b[32mclass\u001b[39m \u001b[36mClosure\u001b[39m\n",
       "defined \u001b[32mobject\u001b[39m \u001b[36mErrorValue\u001b[39m\n",
       "defined \u001b[32mfunction\u001b[39m \u001b[36mvalueToNumber\u001b[39m\n",
       "defined \u001b[32mfunction\u001b[39m \u001b[36mvalueToBoolean\u001b[39m\n",
       "defined \u001b[32mfunction\u001b[39m \u001b[36mvalueToClosure\u001b[39m\n",
       "defined \u001b[32mfunction\u001b[39m \u001b[36mlookupEnv\u001b[39m"
      ]
     },
     "execution_count": 62,
     "metadata": {},
     "output_type": "execute_result"
    }
   ],
   "source": [
    "sealed trait Environment \n",
    "sealed trait Value\n",
    "\n",
    "case object EmptyEnv extends Environment {\n",
    "    override def toString(): String = s\"()\"\n",
    "}\n",
    "case class Extend(x: String, v: Value, sigma: Environment) extends Environment {\n",
    "    override def toString(): String = s\"$x -> ${v.toString}, $sigma\"\n",
    "}\n",
    "//ExtendRec helps me create the illusion of a circular scope\n",
    "case class ExtendRec(f: String, x: String, e: Expr, sigma: Environment ) extends Environment {\n",
    "    override def toString(): String = s\"$f -> Closure($x, ${e.toString}, ($f -> THIS_ENV, $sigma))\"\n",
    "}\n",
    "\n",
    "/* -- We need to redefine values to accomodate the new representation of environments --*/\n",
    "case class NumValue(d: Double) extends Value {\n",
    "    override def toString(): String = d.toString\n",
    "}\n",
    "case class BoolValue(b: Boolean) extends Value {\n",
    "    override def toString(): String = b.toString\n",
    "}\n",
    "case class Closure(x: String, e: Expr, pi: Environment) extends Value {\n",
    "    override def toString(): String = s\"Closure($x, ${e.toString}, ${pi.toString})\"\n",
    "}\n",
    "case object ErrorValue extends Value\n",
    "\n",
    "\n",
    "/*2. Operators on values */\n",
    "\n",
    "def valueToNumber(v: Value): Double = v match {\n",
    "    case NumValue(d) => d\n",
    "    case _ => throw new IllegalArgumentException(s\"Error: Asking me to convert Value: $v to a number\")\n",
    "}\n",
    "\n",
    "def valueToBoolean(v: Value): Boolean = v match {\n",
    "    case BoolValue(b) => b\n",
    "    case _ => throw new IllegalArgumentException(s\"Error: Asking me to convert Value: $v to a boolean\")\n",
    "}\n",
    "\n",
    "def valueToClosure(v: Value): Closure = v match {\n",
    "    case Closure(x, e, pi) => Closure(x, e, pi)\n",
    "    case _ =>  throw new IllegalArgumentException(s\"Error: Asking me to convert Value: $v to a closure\")\n",
    "}\n",
    "\n",
    "\n",
    "/*-- Operations on environments --*/\n",
    "\n",
    "def lookupEnv(sigma: Environment, x: String): Value = {\n",
    "    val ret = {\n",
    "            sigma match {\n",
    "            case EmptyEnv => throw new IllegalArgumentException(s\"Error could not find string $x in environment\")\n",
    "            case Extend(y, v, rest) =>\n",
    "                if (y == x ) { v }\n",
    "                else { lookupEnv (rest, x) }\n",
    "            // The illusion of circularity is here.\n",
    "            case ExtendRec(funName, param, funBody, rest) =>\n",
    "                if (x == funName) \n",
    "                    Closure(param, funBody, sigma)\n",
    "                else\n",
    "                    lookupEnv(rest, x)\n",
    "        }\n",
    "    }\n",
    "    println(s\"Look up variable `$x` in environment `$sigma`. Value is `$ret`.\")\n",
    "    ret\n",
    "}"
   ]
  },
  {
   "cell_type": "code",
   "execution_count": 67,
   "metadata": {},
   "outputs": [
    {
     "data": {
      "text/plain": [
       "defined \u001b[32mfunction\u001b[39m \u001b[36mevalExpr\u001b[39m\n",
       "defined \u001b[32mfunction\u001b[39m \u001b[36mevalProgram\u001b[39m"
      ]
     },
     "execution_count": 67,
     "metadata": {},
     "output_type": "execute_result"
    }
   ],
   "source": [
    "/*-- We can rewrite evalExpr now to handle recursion as well --*/\n",
    "def evalExpr(e: Expr, env: Environment): Value =  {\n",
    "    println(s\"Evaluate expression `${e.toString}` in environment `$env`\")\n",
    "    \n",
    "    /* Method to deal with binary arithmetic operations */\n",
    "    def applyArith2 (e1: Expr, e2: Expr) (fun: (Double , Double) => Double) = {\n",
    "        val v1 = valueToNumber(evalExpr(e1, env))\n",
    "        val v2 = valueToNumber(evalExpr(e2, env))\n",
    "        val v3 = fun(v1, v2)\n",
    "        NumValue(v3)\n",
    "    }  /* -- We have deliberately curried the method --*/\n",
    "    \n",
    "    /* Helper method to deal with unary arithmetic */\n",
    "    def applyArith1(e: Expr) (fun: Double => Double) = {\n",
    "        val v = valueToNumber(evalExpr(e, env))\n",
    "        val v1 = fun(v)\n",
    "        NumValue(v1)\n",
    "    }\n",
    "    \n",
    "    /* Helper method to deal with comparison operators */\n",
    "    def applyComp(e1: Expr, e2: Expr) (fun: (Double, Double) => Boolean) = {\n",
    "        val v1 = valueToNumber(evalExpr(e1, env))\n",
    "        val v2 = valueToNumber(evalExpr(e2, env))\n",
    "        val v3 = fun(v1, v2)\n",
    "        BoolValue(v3)\n",
    "    }\n",
    "    \n",
    "   \n",
    "    e match {\n",
    "        case Const(f) => NumValue(f) // Same as before\n",
    "        \n",
    "        case Ident(x) => lookupEnv(env, x) // Changed to accomodate the new environment definitions.\n",
    "    \n",
    "        /* Ditto as before */\n",
    "        case Plus(e1, e2) => applyArith2 (e1, e2) ( _ + _ )\n",
    "        /* Ditto as before */\n",
    "        case Minus(e1, e2) => applyArith2(e1, e2) ( _ - _ )\n",
    "        /* Ditto as before */\n",
    "        case Mult(e1, e2) =>  applyArith2(e1, e2) (_ * _)\n",
    "        /* Ditto as before */\n",
    "        case Geq(e1, e2) => applyComp(e1, e2)(_ >= _)\n",
    "        /* Ditto as before */\n",
    "        case Eq(e1, e2) => applyComp(e1, e2)(_ == _)\n",
    "        /* Ditto as before */\n",
    "        case IfThenElse(e1, e2, e3) => {\n",
    "            val v = evalExpr(e1, env)\n",
    "            v match {\n",
    "                case BoolValue(true) => evalExpr(e2, env)\n",
    "                case BoolValue(false) => evalExpr(e3, env)\n",
    "                case _ => throw new IllegalArgumentException(s\"If-then-else condition expr: ${e1} is non-boolean -- evaluates to ${v}\")\n",
    "            }\n",
    "        }\n",
    "        /* Ditto as before */\n",
    "        case Let(x, e1, e2) => {\n",
    "            val v1 = evalExpr(e1, env)  // eval e1\n",
    "            val env2 = Extend(x, v1, env) // create a new extended env\n",
    "            evalExpr(e2, env2) // eval e2 under that.\n",
    "        }\n",
    "        /* Ditto as before */\n",
    "        case FunDef(x, e) => {\n",
    "            Closure(x, e, env) // Return a closure with the current enviroment.\n",
    "        }\n",
    "        /* Ditto as before */\n",
    "        case FunCall(e1, e2) => {\n",
    "            val v1 = evalExpr(e1, env)\n",
    "            val v2 = evalExpr(e2, env)\n",
    "            v1 match {\n",
    "                case Closure(x, closure_ex, closed_env) => {\n",
    "                    // First extend closed_env by binding x to v2\n",
    "                    val new_env = Extend(x, v2, closed_env)\n",
    "                    // Evaluate the body of the closure under the extended environment.\n",
    "                    println(s\"Evaluate function body `$closure_ex` in environment `$new_env`\")\n",
    "                    evalExpr(closure_ex, new_env)\n",
    "                }\n",
    "                case _ => throw new IllegalArgumentException(s\"Function call error: expression $e1 does not evaluate to a closure\")\n",
    "            }\n",
    "        }\n",
    "        /*-- This is where we handle recursion --*/\n",
    "        case LetRec(rfun, x, fExpr, bExpr) => {\n",
    "            // Storing all the ingredients that are needed to create\n",
    "            // a circular scope.\n",
    "            val env2 = ExtendRec(rfun, x, fExpr, env)\n",
    "            evalExpr(bExpr, env2)\n",
    "        }\n",
    "    }\n",
    "}\n",
    "\n",
    "def evalProgram(p: Program) = {\n",
    "    p match { \n",
    "        case TopLevel(e) => evalExpr(e, EmptyEnv)\n",
    "    }\n",
    "}"
   ]
  },
  {
   "cell_type": "code",
   "execution_count": 70,
   "metadata": {},
   "outputs": [
    {
     "name": "stdout",
     "output_type": "stream",
     "text": [
      "Evaluate expression `let rec fact(n) = if ((n == 0.0)) 1.0 else (n * fact((n - 1.0))) in fact(1.0)` in environment `()`\n",
      "Evaluate expression `fact(1.0)` in environment `fact -> Closure(n, if ((n == 0.0)) 1.0 else (n * fact((n - 1.0))), (fact -> THIS_ENV, ()))`\n",
      "Evaluate expression `fact` in environment `fact -> Closure(n, if ((n == 0.0)) 1.0 else (n * fact((n - 1.0))), (fact -> THIS_ENV, ()))`\n",
      "Look up variable `fact` in environment `fact -> Closure(n, if ((n == 0.0)) 1.0 else (n * fact((n - 1.0))), (fact -> THIS_ENV, ()))`. Value is `Closure(n, if ((n == 0.0)) 1.0 else (n * fact((n - 1.0))), fact -> Closure(n, if ((n == 0.0)) 1.0 else (n * fact((n - 1.0))), (fact -> THIS_ENV, ())))`.\n",
      "Evaluate expression `1.0` in environment `fact -> Closure(n, if ((n == 0.0)) 1.0 else (n * fact((n - 1.0))), (fact -> THIS_ENV, ()))`\n",
      "Evaluate function body `if ((n == 0.0)) 1.0 else (n * fact((n - 1.0)))` in environment `n -> 1.0, fact -> Closure(n, if ((n == 0.0)) 1.0 else (n * fact((n - 1.0))), (fact -> THIS_ENV, ()))`\n",
      "Evaluate expression `if ((n == 0.0)) 1.0 else (n * fact((n - 1.0)))` in environment `n -> 1.0, fact -> Closure(n, if ((n == 0.0)) 1.0 else (n * fact((n - 1.0))), (fact -> THIS_ENV, ()))`\n",
      "Evaluate expression `(n == 0.0)` in environment `n -> 1.0, fact -> Closure(n, if ((n == 0.0)) 1.0 else (n * fact((n - 1.0))), (fact -> THIS_ENV, ()))`\n",
      "Evaluate expression `n` in environment `n -> 1.0, fact -> Closure(n, if ((n == 0.0)) 1.0 else (n * fact((n - 1.0))), (fact -> THIS_ENV, ()))`\n",
      "Look up variable `n` in environment `n -> 1.0, fact -> Closure(n, if ((n == 0.0)) 1.0 else (n * fact((n - 1.0))), (fact -> THIS_ENV, ()))`. Value is `1.0`.\n",
      "Evaluate expression `0.0` in environment `n -> 1.0, fact -> Closure(n, if ((n == 0.0)) 1.0 else (n * fact((n - 1.0))), (fact -> THIS_ENV, ()))`\n",
      "Evaluate expression `(n * fact((n - 1.0)))` in environment `n -> 1.0, fact -> Closure(n, if ((n == 0.0)) 1.0 else (n * fact((n - 1.0))), (fact -> THIS_ENV, ()))`\n",
      "Evaluate expression `n` in environment `n -> 1.0, fact -> Closure(n, if ((n == 0.0)) 1.0 else (n * fact((n - 1.0))), (fact -> THIS_ENV, ()))`\n",
      "Look up variable `n` in environment `n -> 1.0, fact -> Closure(n, if ((n == 0.0)) 1.0 else (n * fact((n - 1.0))), (fact -> THIS_ENV, ()))`. Value is `1.0`.\n",
      "Evaluate expression `fact((n - 1.0))` in environment `n -> 1.0, fact -> Closure(n, if ((n == 0.0)) 1.0 else (n * fact((n - 1.0))), (fact -> THIS_ENV, ()))`\n",
      "Evaluate expression `fact` in environment `n -> 1.0, fact -> Closure(n, if ((n == 0.0)) 1.0 else (n * fact((n - 1.0))), (fact -> THIS_ENV, ()))`\n",
      "Look up variable `fact` in environment `fact -> Closure(n, if ((n == 0.0)) 1.0 else (n * fact((n - 1.0))), (fact -> THIS_ENV, ()))`. Value is `Closure(n, if ((n == 0.0)) 1.0 else (n * fact((n - 1.0))), fact -> Closure(n, if ((n == 0.0)) 1.0 else (n * fact((n - 1.0))), (fact -> THIS_ENV, ())))`.\n",
      "Look up variable `fact` in environment `n -> 1.0, fact -> Closure(n, if ((n == 0.0)) 1.0 else (n * fact((n - 1.0))), (fact -> THIS_ENV, ()))`. Value is `Closure(n, if ((n == 0.0)) 1.0 else (n * fact((n - 1.0))), fact -> Closure(n, if ((n == 0.0)) 1.0 else (n * fact((n - 1.0))), (fact -> THIS_ENV, ())))`.\n",
      "Evaluate expression `(n - 1.0)` in environment `n -> 1.0, fact -> Closure(n, if ((n == 0.0)) 1.0 else (n * fact((n - 1.0))), (fact -> THIS_ENV, ()))`\n",
      "Evaluate expression `n` in environment `n -> 1.0, fact -> Closure(n, if ((n == 0.0)) 1.0 else (n * fact((n - 1.0))), (fact -> THIS_ENV, ()))`\n",
      "Look up variable `n` in environment `n -> 1.0, fact -> Closure(n, if ((n == 0.0)) 1.0 else (n * fact((n - 1.0))), (fact -> THIS_ENV, ()))`. Value is `1.0`.\n",
      "Evaluate expression `1.0` in environment `n -> 1.0, fact -> Closure(n, if ((n == 0.0)) 1.0 else (n * fact((n - 1.0))), (fact -> THIS_ENV, ()))`\n",
      "Evaluate function body `if ((n == 0.0)) 1.0 else (n * fact((n - 1.0)))` in environment `n -> 0.0, fact -> Closure(n, if ((n == 0.0)) 1.0 else (n * fact((n - 1.0))), (fact -> THIS_ENV, ()))`\n",
      "Evaluate expression `if ((n == 0.0)) 1.0 else (n * fact((n - 1.0)))` in environment `n -> 0.0, fact -> Closure(n, if ((n == 0.0)) 1.0 else (n * fact((n - 1.0))), (fact -> THIS_ENV, ()))`\n",
      "Evaluate expression `(n == 0.0)` in environment `n -> 0.0, fact -> Closure(n, if ((n == 0.0)) 1.0 else (n * fact((n - 1.0))), (fact -> THIS_ENV, ()))`\n",
      "Evaluate expression `n` in environment `n -> 0.0, fact -> Closure(n, if ((n == 0.0)) 1.0 else (n * fact((n - 1.0))), (fact -> THIS_ENV, ()))`\n",
      "Look up variable `n` in environment `n -> 0.0, fact -> Closure(n, if ((n == 0.0)) 1.0 else (n * fact((n - 1.0))), (fact -> THIS_ENV, ()))`. Value is `0.0`.\n",
      "Evaluate expression `0.0` in environment `n -> 0.0, fact -> Closure(n, if ((n == 0.0)) 1.0 else (n * fact((n - 1.0))), (fact -> THIS_ENV, ()))`\n",
      "Evaluate expression `1.0` in environment `n -> 0.0, fact -> Closure(n, if ((n == 0.0)) 1.0 else (n * fact((n - 1.0))), (fact -> THIS_ENV, ()))`\n"
     ]
    },
    {
     "data": {
      "text/plain": [
       "\u001b[36mfact_rec_1\u001b[39m: \u001b[32mTopLevel\u001b[39m = \u001b[33mTopLevel\u001b[39m(\n",
       "  \u001b[33mLetRec\u001b[39m(\n",
       "    \u001b[32m\"fact\"\u001b[39m,\n",
       "    \u001b[32m\"n\"\u001b[39m,\n",
       "    \u001b[33mIfThenElse\u001b[39m(\n",
       "      \u001b[33mEq\u001b[39m(\u001b[33mIdent\u001b[39m(\u001b[32m\"n\"\u001b[39m), \u001b[33mConst\u001b[39m(\u001b[32m0.0\u001b[39m)),\n",
       "      \u001b[33mConst\u001b[39m(\u001b[32m1.0\u001b[39m),\n",
       "      \u001b[33mMult\u001b[39m(\u001b[33mIdent\u001b[39m(\u001b[32m\"n\"\u001b[39m), \u001b[33mFunCall\u001b[39m(\u001b[33mIdent\u001b[39m(\u001b[32m\"fact\"\u001b[39m), \u001b[33mMinus\u001b[39m(\u001b[33mIdent\u001b[39m(\u001b[32m\"n\"\u001b[39m), \u001b[33mConst\u001b[39m(\u001b[32m1.0\u001b[39m))))\n",
       "    ),\n",
       "    \u001b[33mFunCall\u001b[39m(\u001b[33mIdent\u001b[39m(\u001b[32m\"fact\"\u001b[39m), \u001b[33mConst\u001b[39m(\u001b[32m1.0\u001b[39m))\n",
       "  )\n",
       ")\n",
       "\u001b[36mres69_1\u001b[39m: \u001b[32mValue\u001b[39m = \u001b[33mNumValue\u001b[39m(\u001b[32m1.0\u001b[39m)"
      ]
     },
     "execution_count": 70,
     "metadata": {},
     "output_type": "execute_result"
    }
   ],
   "source": [
    "val fact_rec_1 = TopLevel(\n",
    "    LetRec(\"fact\", \"n\", \n",
    "          IfThenElse(Eq(Ident(\"n\"), Const(0)), Const(1), \n",
    "                     Mult(Ident(\"n\"), FunCall(Ident(\"fact\"), Minus(Ident(\"n\"), Const(1))))\n",
    "                    ),\n",
    "           FunCall(Ident(\"fact\"), Const(1))\n",
    "          )\n",
    ")\n",
    "evalProgram(fact_rec_1)"
   ]
  },
  {
   "cell_type": "markdown",
   "metadata": {},
   "source": [
    "## Illustration of circular scoping for function `fact`\n",
    "\n",
    "![Circular scope](circular_scope.png)"
   ]
  }
 ],
 "metadata": {
  "kernelspec": {
   "display_name": "Scala",
   "language": "scala",
   "name": "scala"
  },
  "language_info": {
   "codemirror_mode": "text/x-scala",
   "file_extension": ".sc",
   "mimetype": "text/x-scala",
   "name": "scala",
   "nbconvert_exporter": "script",
   "version": "2.13.3"
  }
 },
 "nbformat": 4,
 "nbformat_minor": 4
}
