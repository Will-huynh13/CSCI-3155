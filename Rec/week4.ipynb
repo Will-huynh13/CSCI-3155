{
 "cells": [
  {
   "cell_type": "markdown",
   "metadata": {
    "nbgrader": {
     "grade": false,
     "grade_id": "cell-e4ec8e4f42d06d14",
     "locked": true,
     "schema_version": 1,
     "solution": false
    }
   },
   "source": [
    "## Outline\n",
    "1. Anonymous functions (aka lambda functions)\n",
    "2. Using higher-order functions to replace loops\n",
    "3. Reading inference rules\n"
   ]
  },
  {
   "cell_type": "markdown",
   "metadata": {
    "nbgrader": {
     "grade": false,
     "grade_id": "cell-b8df8cb319677f2a",
     "locked": true,
     "schema_version": 1,
     "solution": false
    }
   },
   "source": [
    "## Anonymous functions\n",
    "\n",
    "\n",
    "* Scala:  `(param1, param2) => expression`\n",
    "* Python: `lambda param1, param2: expression`\n",
    "* Java:   `(param1, param2) -> expression`\n",
    "* Math(lambda calculus): $\\lambda\\ p_1\\ p_2.\\ e$\n"
   ]
  },
  {
   "cell_type": "markdown",
   "metadata": {
    "nbgrader": {
     "grade": false,
     "grade_id": "cell-79c2a81c668fa9d0",
     "locked": true,
     "schema_version": 1,
     "solution": false
    }
   },
   "source": [
    "### Exercise: Anonymous functions\n",
    "Write anonymous functions that perform the requested operations. (Ok, we're putting them in variables, so they're not quite \"anonymous\")"
   ]
  },
  {
   "cell_type": "code",
   "execution_count": 6,
   "metadata": {
    "nbgrader": {
     "grade": false,
     "grade_id": "cell-ac54b03388c07a84",
     "locked": false,
     "schema_version": 1,
     "solution": true
    }
   },
   "outputs": [
    {
     "data": {
      "text/plain": [
       "\u001b[36mis_one\u001b[39m: \u001b[32mInt\u001b[39m => \u001b[32mBoolean\u001b[39m = ammonite.$sess.cmd5$Helper$$Lambda$1967/0x0000000800acd040@669316cf\n",
       "\u001b[36mis_one2\u001b[39m: \u001b[32mInt\u001b[39m => \u001b[32mBoolean\u001b[39m = ammonite.$sess.cmd5$Helper$$Lambda$1968/0x0000000800acd840@2335eaf6\n",
       "\u001b[36mis_one3\u001b[39m: \u001b[32mInt\u001b[39m => \u001b[32mBoolean\u001b[39m = ammonite.$sess.cmd5$Helper$$Lambda$1969/0x0000000800ace840@47ab4f34\n",
       "\u001b[36mis_one_pattern\u001b[39m: \u001b[32mInt\u001b[39m => \u001b[32mBoolean\u001b[39m = ammonite.$sess.cmd5$Helper$$Lambda$1970/0x0000000800acf040@2378ee33\n",
       "\u001b[36mis_one_pattern2\u001b[39m: \u001b[32mInt\u001b[39m => \u001b[32mBoolean\u001b[39m = ammonite.$sess.cmd5$Helper$$Lambda$1971/0x0000000800ad0040@1e442cf9\n",
       "\u001b[36madd\u001b[39m: (\u001b[32mInt\u001b[39m, \u001b[32mInt\u001b[39m) => \u001b[32mInt\u001b[39m = ammonite.$sess.cmd5$Helper$$Lambda$1972/0x0000000800ad0840@41c2419e\n",
       "\u001b[36mcall_on_3\u001b[39m: \u001b[32mInt\u001b[39m => \u001b[32mInt\u001b[39m => \u001b[32mInt\u001b[39m = ammonite.$sess.cmd5$Helper$$Lambda$1973/0x0000000800ad1840@7b5bf0bd"
      ]
     },
     "execution_count": 6,
     "metadata": {},
     "output_type": "execute_result"
    }
   ],
   "source": [
    "// Returns true if input is 1, false otherwise\n",
    "val is_one: (Int) => Boolean = x => (x == 1)\n",
    "val is_one2 : Int => Boolean = (x: Int) => (x == 1) // diff way to right it\n",
    "val is_one3: Int => Boolean = (x: Int) => {x == 1; x == 2} // used when its more complicated \n",
    "\n",
    "assert(is_one(1))\n",
    "assert(!is_one(2))\n",
    "\n",
    "// new: pattern matching\n",
    "// Returns true if input is 1, false otherwise *using patterrn matching*\n",
    "val is_one_pattern: (Int) => Boolean = x => {\n",
    "    x match{\n",
    "        case 1 => true\n",
    "        case _ => false\n",
    "    }\n",
    "}\n",
    "\n",
    "val is_one_pattern2: Int => Boolean = { // simplifed version if it is all pattern matching \n",
    "    case 1 => true\n",
    "    case _ => false\n",
    "}\n",
    "assert(is_one_pattern(1))\n",
    "assert(!is_one_pattern(2))\n",
    "\n",
    "// new: multi-parameter\n",
    "// Returns the addition of the inputs\n",
    "val add: (Int, Int) => Int = (x: Int, y: Int) => (x + y)\n",
    "\n",
    "assert(add(1, 2) == 3)\n",
    "\n",
    "// new: take funcs\n",
    "// Takes a function and applies it to 3\n",
    "val call_on_3: (Int => Int) => Int = (f: Int => Int) => (f(3))\n",
    "\n",
    "assert(call_on_3(_ + 5) == 8)"
   ]
  },
  {
   "cell_type": "markdown",
   "metadata": {},
   "source": [
    "## Higher Order Functions\n",
    "\n",
    "\n"
   ]
  },
  {
   "cell_type": "markdown",
   "metadata": {},
   "source": [
    "### Exercise `last`\n",
    "\n",
    "Using `FoldLeft`, find the last element of a list. If the list is empty, use the default argument provided(See the third example)\n",
    "\n",
    "$\n",
    "\\texttt{last(List(2,4,5,7,9), 0)} \\mapsto \\texttt{9}\\\\\n",
    "\\texttt{last(\"scala is cool\", 'a')} \\mapsto \\texttt{'l'}\\\\\n",
    "\\texttt{last(\"\", 'a')} \\mapsto \\texttt{'a'}\n",
    "$\n"
   ]
  },
  {
   "cell_type": "code",
   "execution_count": 7,
   "metadata": {},
   "outputs": [
    {
     "data": {
      "text/plain": [
       "defined \u001b[32mfunction\u001b[39m \u001b[36mlast\u001b[39m"
      ]
     },
     "execution_count": 7,
     "metadata": {},
     "output_type": "execute_result"
    }
   ],
   "source": [
    "def last[A](l : List[A], default : A) : A = l.foldLeft(default)({\n",
    "    (acc,e) => e\n",
    "})"
   ]
  },
  {
   "cell_type": "code",
   "execution_count": 9,
   "metadata": {},
   "outputs": [
    {
     "data": {
      "text/plain": [
       "\u001b[36mex1\u001b[39m: \u001b[32mList\u001b[39m[\u001b[32mInt\u001b[39m] = \u001b[33mList\u001b[39m(\u001b[32m2\u001b[39m, \u001b[32m4\u001b[39m, \u001b[32m5\u001b[39m, \u001b[32m7\u001b[39m, \u001b[32m9\u001b[39m)"
      ]
     },
     "execution_count": 9,
     "metadata": {},
     "output_type": "execute_result"
    }
   ],
   "source": [
    "val ex1 = List(2,4,5,7,9)\n",
    "assert(last(ex1, 0) == 9)"
   ]
  },
  {
   "cell_type": "code",
   "execution_count": 10,
   "metadata": {},
   "outputs": [
    {
     "data": {
      "text/plain": [
       "\u001b[36mex2\u001b[39m: \u001b[32mList\u001b[39m[\u001b[32mChar\u001b[39m] = \u001b[33mList\u001b[39m(\n",
       "  \u001b[32m's'\u001b[39m,\n",
       "  \u001b[32m'c'\u001b[39m,\n",
       "  \u001b[32m'a'\u001b[39m,\n",
       "  \u001b[32m'l'\u001b[39m,\n",
       "  \u001b[32m'a'\u001b[39m,\n",
       "  \u001b[32m' '\u001b[39m,\n",
       "  \u001b[32m'i'\u001b[39m,\n",
       "  \u001b[32m's'\u001b[39m,\n",
       "  \u001b[32m' '\u001b[39m,\n",
       "  \u001b[32m'c'\u001b[39m,\n",
       "  \u001b[32m'o'\u001b[39m,\n",
       "  \u001b[32m'o'\u001b[39m,\n",
       "  \u001b[32m'l'\u001b[39m\n",
       ")"
      ]
     },
     "execution_count": 10,
     "metadata": {},
     "output_type": "execute_result"
    }
   ],
   "source": [
    "val ex2 = \"scala is cool\".toList\n",
    "assert(last(ex2, 'a') == 'l')"
   ]
  },
  {
   "cell_type": "code",
   "execution_count": 11,
   "metadata": {},
   "outputs": [
    {
     "data": {
      "text/plain": [
       "\u001b[36mex3\u001b[39m: \u001b[32mList\u001b[39m[\u001b[32mNothing\u001b[39m] = \u001b[33mList\u001b[39m()"
      ]
     },
     "execution_count": 11,
     "metadata": {},
     "output_type": "execute_result"
    }
   ],
   "source": [
    "val ex3 = List()\n",
    "assert(last(ex3, 'a') == 'a')"
   ]
  },
  {
   "cell_type": "markdown",
   "metadata": {},
   "source": [
    "### Exercise `len`\n",
    "\n",
    "Using `FoldLeft`, calculate the length of a list."
   ]
  },
  {
   "cell_type": "code",
   "execution_count": 14,
   "metadata": {},
   "outputs": [
    {
     "data": {
      "text/plain": [
       "defined \u001b[32mfunction\u001b[39m \u001b[36mlen\u001b[39m"
      ]
     },
     "execution_count": 14,
     "metadata": {},
     "output_type": "execute_result"
    }
   ],
   "source": [
    "def len[A](xs : List[A]) : Int = xs.foldLeft(0)({\n",
    "    (acc,e) => acc + 1\n",
    "})"
   ]
  },
  {
   "cell_type": "code",
   "execution_count": 15,
   "metadata": {},
   "outputs": [
    {
     "data": {
      "text/plain": [
       "\u001b[36mex1\u001b[39m: \u001b[32mList\u001b[39m[\u001b[32mInt\u001b[39m] = \u001b[33mList\u001b[39m(\u001b[32m2\u001b[39m, \u001b[32m4\u001b[39m, \u001b[32m5\u001b[39m, \u001b[32m7\u001b[39m, \u001b[32m9\u001b[39m)"
      ]
     },
     "execution_count": 15,
     "metadata": {},
     "output_type": "execute_result"
    }
   ],
   "source": [
    "val ex1 = List(2,4,5,7,9)\n",
    "assert(len(ex1) == 5)"
   ]
  },
  {
   "cell_type": "code",
   "execution_count": 16,
   "metadata": {},
   "outputs": [
    {
     "data": {
      "text/plain": [
       "\u001b[36mex2\u001b[39m: \u001b[32mList\u001b[39m[\u001b[32mChar\u001b[39m] = \u001b[33mList\u001b[39m(\n",
       "  \u001b[32m's'\u001b[39m,\n",
       "  \u001b[32m'c'\u001b[39m,\n",
       "  \u001b[32m'a'\u001b[39m,\n",
       "  \u001b[32m'l'\u001b[39m,\n",
       "  \u001b[32m'a'\u001b[39m,\n",
       "  \u001b[32m' '\u001b[39m,\n",
       "  \u001b[32m'i'\u001b[39m,\n",
       "  \u001b[32m's'\u001b[39m,\n",
       "  \u001b[32m' '\u001b[39m,\n",
       "  \u001b[32m'c'\u001b[39m,\n",
       "  \u001b[32m'o'\u001b[39m,\n",
       "  \u001b[32m'o'\u001b[39m,\n",
       "  \u001b[32m'l'\u001b[39m\n",
       ")"
      ]
     },
     "execution_count": 16,
     "metadata": {},
     "output_type": "execute_result"
    }
   ],
   "source": [
    "val ex2 = \"scala is cool\".toList\n",
    "assert(len(ex2) == 13)"
   ]
  },
  {
   "cell_type": "code",
   "execution_count": 17,
   "metadata": {},
   "outputs": [
    {
     "data": {
      "text/plain": [
       "\u001b[36mex3\u001b[39m: \u001b[32mList\u001b[39m[\u001b[32mNothing\u001b[39m] = \u001b[33mList\u001b[39m()"
      ]
     },
     "execution_count": 17,
     "metadata": {},
     "output_type": "execute_result"
    }
   ],
   "source": [
    "val ex3 = List()\n",
    "assert(len(ex3) == 0)"
   ]
  },
  {
   "cell_type": "markdown",
   "metadata": {},
   "source": [
    "### Exercise `remove`\n",
    "\n",
    "Using `filter` remove a given letter from a string.\n",
    "\n",
    "$\n",
    "\\texttt{remove(\"hello, world!\", 'o')} \\mapsto \\texttt{\"hell, wrld!\"}\\\\\n",
    "\\texttt{remove(\"aaaAAAaaAAaaH!\", 'a')} \\mapsto \\texttt{\"AAAAAH!\"}\n",
    "$"
   ]
  },
  {
   "cell_type": "code",
   "execution_count": 18,
   "metadata": {},
   "outputs": [
    {
     "data": {
      "text/plain": [
       "\u001b[36mx\u001b[39m: \u001b[32mList\u001b[39m[\u001b[32mInt\u001b[39m] = \u001b[33mList\u001b[39m(\u001b[32m1\u001b[39m, \u001b[32m2\u001b[39m, \u001b[32m3\u001b[39m)\n",
       "\u001b[36mres17_1\u001b[39m: \u001b[32mList\u001b[39m[\u001b[32mInt\u001b[39m] = \u001b[33mList\u001b[39m(\u001b[32m2\u001b[39m, \u001b[32m3\u001b[39m)"
      ]
     },
     "execution_count": 18,
     "metadata": {},
     "output_type": "execute_result"
    }
   ],
   "source": [
    "val x = List(1,2,3)\n",
    "x.filter(e => e > 1)"
   ]
  },
  {
   "cell_type": "code",
   "execution_count": 21,
   "metadata": {},
   "outputs": [
    {
     "data": {
      "text/plain": [
       "defined \u001b[32mfunction\u001b[39m \u001b[36mremove\u001b[39m"
      ]
     },
     "execution_count": 21,
     "metadata": {},
     "output_type": "execute_result"
    }
   ],
   "source": [
    "def remove(s : String, c : Char) : String = s.filter(e => e != c)"
   ]
  },
  {
   "cell_type": "code",
   "execution_count": 22,
   "metadata": {},
   "outputs": [
    {
     "name": "stdout",
     "output_type": "stream",
     "text": [
      "It Worked!"
     ]
    }
   ],
   "source": [
    "assert(remove(\"hello, world!\", 'o') == \"hell, wrld!\")\n",
    "print(\"It Worked!\")"
   ]
  },
  {
   "cell_type": "code",
   "execution_count": null,
   "metadata": {},
   "outputs": [],
   "source": [
    "assert(remove(\"aaaAAAaaAAaaH!\", 'a') == \"AAAAAH!\")\n",
    "print(\"It Worked!\")"
   ]
  },
  {
   "cell_type": "markdown",
   "metadata": {
    "nbgrader": {
     "grade": false,
     "grade_id": "cell-90a1c627f767f6d6",
     "locked": true,
     "schema_version": 1,
     "solution": false
    }
   },
   "source": [
    "## Inference Rules\n",
    "\n",
    "We write inference rules as follows:\n",
    "\n",
    "$ \\begin{array}{c}\n",
    "\\text{precondition_1},\\;\\;\\text{precondition_2},\\;\\; \\cdots \\\\\n",
    "\\hline\n",
    "\\text{result} \\\\\n",
    "\\end{array} \\textbf{(Name of the rule)} $"
   ]
  },
  {
   "cell_type": "markdown",
   "metadata": {},
   "source": [
    "### Exercise: Inference Rules for Collecting the Identifiers in an Expression\n",
    "\n",
    "Using the given rules below as inspiration, write down the rule to collect the identifiers of an expression. The general form for these rules is:\n",
    "\n",
    "\n",
    "$\n",
    "\\begin{array}{c}\n",
    "\\langle\\text{Premises}\\rangle\\\\\n",
    "\\hline\n",
    "\\langle \\text{Expression} \\rangle \\ni \\langle\\text{Set of Identifiers}\\rangle\\\\\n",
    "\\end{array} \\mathbf{(RuleName)} \n",
    "$\n",
    "\n",
    "We read this as: If the premises are met, then the expression contains these identifiers"
   ]
  },
  {
   "cell_type": "markdown",
   "metadata": {},
   "source": [
    "The rule for constants:\n",
    "\n",
    "$\n",
    "\\begin{array}{c}\n",
    "\\\\\n",
    "\\hline \n",
    "\\texttt{Const(f)} \\ni \\emptyset \\\\\n",
    "\\end{array} \\mathbf{(Constant)}\n",
    "$\n",
    "\n"
   ]
  },
  {
   "cell_type": "markdown",
   "metadata": {},
   "source": [
    "For addition, multiplication, and division:\n",
    "\n",
    "$\n",
    "\\begin{array}{ccc}\n",
    "\\begin{array}{c}\n",
    "e_1 \\ni l_1 \\quad e_2 \\ni l_2 \\\\\n",
    "\\hline \n",
    "\\texttt{Plus}(e_1, e_2) \\ni l_1 \\cup l_2 \\\\\n",
    "\\end{array} \\mathbf{(Plus)}\n",
    "&& \n",
    "\\begin{array}{c}\n",
    "e_1 \\ni l_1 \\quad e_2 \\ni l_2 \\\\\n",
    "\\hline \n",
    "\\texttt{Mult}(e_1, e_2) \\ni l_1 \\cup l_2 \\\\\n",
    "\\end{array} \\mathbf{(Mult)}\n",
    "&&\n",
    "\\begin{array}{c}\n",
    "e_1 \\ni l_1 \\quad e_2 \\ni l_2 \\\\\n",
    "\\hline \n",
    "\\texttt{Div}(e_1, e_2) \\ni l_1 \\cup l_2 \\\\\n",
    "\\end{array} \\mathbf{(Div)}\n",
    "\\end{array}\n",
    "$"
   ]
  },
  {
   "cell_type": "markdown",
   "metadata": {},
   "source": [
    "Now, write the rules for identifiers and exponentiation:\n",
    "\n",
    "// YOUR INFERENCE RULE HERE\n",
    "\n",
    "$\n",
    "\\begin{array}{cc}\n",
    "\\begin{array}{c}\n",
    "\\text{Ident(x)}\\\\\n",
    "\\hline\n",
    "\\text{??? } \\ni \\text{???}\\\\\n",
    "\\end{array} \\mathbf{(Ident)} \n",
    "&&\n",
    " \\begin{array}{c}\n",
    "\\text{???}\\\\\n",
    "\\hline\n",
    "\\text{Exp(e_1, e_2 } \\ni \\text{???} \\\\\n",
    "\\end{array} \\mathbf{(Exp)} \n",
    "\\end{array}$"
   ]
  },
  {
   "cell_type": "code",
   "execution_count": 0,
   "metadata": {},
   "outputs": [
    {
     "name": "stderr",
     "output_type": "stream",
     "text": [
      "cmd0.sc:3: missing argument list for constructor Account in class Account\n",
      "    def increment_balance() = { new Account = balance + 1 }\n",
      "                                ^Compilation Failed"
     ]
    },
    {
     "ename": "",
     "evalue": "",
     "output_type": "error",
     "traceback": [
      "Compilation Failed"
     ]
    }
   ],
   "source": [
    "class Account( var id: String, var balance: Int) {\n",
    "    def get_id(): String = { id }\n",
    "    def increment_balance() = { new Account = balance + 1 }\n",
    "    def get_balance() = { balance }\n",
    " }"
   ]
  },
  {
   "cell_type": "code",
   "execution_count": 10,
   "metadata": {},
   "outputs": [
    {
     "data": {
      "text/html": [
       "<div class=\"jp-RenderedText\">\n",
       "<pre><code><span style=\"color: rgb(0, 187, 187)\"><span class=\"ansi-cyan-fg\">n</span></span>: <span style=\"color: rgb(0, 187, 0)\"><span class=\"ansi-green-fg\">Account</span></span> = ammonite.$sess.cmd5$Helper$Account@5172c9cb\n",
       "<span style=\"color: rgb(0, 187, 187)\"><span class=\"ansi-cyan-fg\">res9_2</span></span>: <span style=\"color: rgb(0, 187, 0)\"><span class=\"ansi-green-fg\">Int</span></span> = <span style=\"color: rgb(0, 187, 0)\"><span class=\"ansi-green-fg\">11</span></span></code></pre>\n",
       "</div>"
      ],
      "text/plain": [
       "\u001b[36mn\u001b[39m: \u001b[32mAccount\u001b[39m = ammonite.$sess.cmd5$Helper$Account@5172c9cb\n",
       "\u001b[36mres9_2\u001b[39m: \u001b[32mInt\u001b[39m = \u001b[32m11\u001b[39m"
      ]
     },
     "metadata": {},
     "output_type": "display_data"
    }
   ],
   "source": [
    "var n = new Account(\"lol\",10)\n",
    "n.increment_balance()\n",
    "n.get_balance"
   ]
  },
  {
   "cell_type": "code",
   "execution_count": 11,
   "metadata": {},
   "outputs": [
    {
     "data": {
      "text/plain": [
       "defined \u001b[32mfunction\u001b[39m \u001b[36mtwiceAndMore\u001b[39m"
      ]
     },
     "execution_count": 11,
     "metadata": {},
     "output_type": "execute_result"
    }
   ],
   "source": [
    "def twiceAndMore(x: Int): Int = {\n",
    "      if (x >= 91 || x <= -91 || x == -1){\n",
    "          1\n",
    "      } else {\n",
    "          twiceAndMore(2 * x + 1)\n",
    "     }\n",
    "}\n"
   ]
  },
  {
   "cell_type": "code",
   "execution_count": 19,
   "metadata": {},
   "outputs": [
    {
     "data": {
      "text/plain": [
       "\u001b[36mres18\u001b[39m: \u001b[32mInt\u001b[39m = \u001b[32m1\u001b[39m"
      ]
     },
     "execution_count": 19,
     "metadata": {},
     "output_type": "execute_result"
    }
   ],
   "source": [
    "twiceAndMore(23)"
   ]
  },
  {
   "cell_type": "code",
   "execution_count": 3,
   "metadata": {},
   "outputs": [
    {
     "data": {
      "text/plain": [
       "defined \u001b[32mtrait\u001b[39m \u001b[36mA\u001b[39m\n",
       "defined \u001b[32mclass\u001b[39m \u001b[36mX\u001b[39m\n",
       "defined \u001b[32mclass\u001b[39m \u001b[36mY\u001b[39m\n",
       "defined \u001b[32mobject\u001b[39m \u001b[36mZ\u001b[39m\n",
       "defined \u001b[32mfunction\u001b[39m \u001b[36munwind\u001b[39m"
      ]
     },
     "execution_count": 3,
     "metadata": {},
     "output_type": "execute_result"
    }
   ],
   "source": [
    " sealed trait A\n",
    "\n",
    " case class X ( i : Int ) extends A\n",
    "\n",
    " case class Y ( j : Int , x : A ) extends A\n",
    "\n",
    " case object Z extends A\n",
    "\n",
    " def unwind ( a : A ) = a match {    \n",
    "          case X ( j ) if j >= 0 => { println(\"1\") }    \n",
    "          case Z => {println(\"2\") }    \n",
    "          case Y ( j , Z ) => {println(\"3\") }    \n",
    "          case Y ( j , X ( i )) if i < 0 => { println(s\"4 j is $j\")}    \n",
    "          case X ( j ) if j < 0 => {println(\"5\") } \n",
    "}"
   ]
  },
  {
   "cell_type": "code",
   "execution_count": 10,
   "metadata": {},
   "outputs": [
    {
     "ename": "",
     "evalue": "",
     "output_type": "error",
     "traceback": [
      "\u001b[31mscala.MatchError: Y(20,X(35)) (of class ammonite.$sess.cmd2$Helper$Y)\u001b[39m\n  ammonite.$sess.cmd2$Helper.unwind(\u001b[32mcmd2.sc\u001b[39m:\u001b[32m9\u001b[39m)\n  ammonite.$sess.cmd9$Helper.<init>(\u001b[32mcmd9.sc\u001b[39m:\u001b[32m1\u001b[39m)\n  ammonite.$sess.cmd9$.<clinit>(\u001b[32mcmd9.sc\u001b[39m:\u001b[32m7\u001b[39m)"
     ]
    }
   ],
   "source": [
    "unwind(Y(20, X(35)))\n",
    "unwind(X(-40))"
   ]
  }
 ],
 "metadata": {
  "celltoolbar": "Create Assignment",
  "kernelspec": {
   "display_name": "Scala",
   "language": "scala",
   "name": "scala"
  },
  "language_info": {
   "codemirror_mode": "text/x-scala",
   "file_extension": ".sc",
   "mimetype": "text/x-scala",
   "name": "scala",
   "nbconvert_exporter": "script",
   "version": "2.13.3"
  }
 },
 "nbformat": 4,
 "nbformat_minor": 2
}
