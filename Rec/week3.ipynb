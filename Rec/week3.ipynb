{
 "cells": [
  {
   "cell_type": "markdown",
   "metadata": {},
   "source": [
    "## Outline\n",
    "0. Pattern matching basics\n",
    "1. Lists and Pattern Matching\n",
    "2. Higher-order Functions\n",
    "3. Abstract Syntax Tree\n"
   ]
  },
  {
   "cell_type": "markdown",
   "metadata": {},
   "source": [
    "## Pattern matching basics"
   ]
  },
  {
   "cell_type": "code",
   "execution_count": 4,
   "metadata": {},
   "outputs": [
    {
     "name": "stdout",
     "output_type": "stream",
     "text": [
      "10\n"
     ]
    },
    {
     "data": {
      "text/plain": [
       "\u001b[36mx\u001b[39m: \u001b[32mInt\u001b[39m = \u001b[32m10\u001b[39m"
      ]
     },
     "execution_count": 4,
     "metadata": {},
     "output_type": "execute_result"
    }
   ],
   "source": [
    "// What should be the output?\n",
    "val x = 10 // What if x is 2\n",
    "x match {\n",
    "    case 1 => println(s\"$x == 1\")\n",
    "    case 2 => println(s\"$x == 2\")\n",
    "    case 3 => println(s\"$x == 3\")\n",
    "    case _ => println(s\"$x\")\n",
    "}"
   ]
  },
  {
   "cell_type": "code",
   "execution_count": 6,
   "metadata": {},
   "outputs": [
    {
     "name": "stdout",
     "output_type": "stream",
     "text": [
      "10 > 5\n"
     ]
    },
    {
     "data": {
      "text/plain": [
       "\u001b[36mx\u001b[39m: \u001b[32mInt\u001b[39m = \u001b[32m10\u001b[39m"
      ]
     },
     "execution_count": 6,
     "metadata": {},
     "output_type": "execute_result"
    }
   ],
   "source": [
    "// What should be the output?\n",
    "val x = 10 // What if x is 2\n",
    "x match {\n",
    "    case _ if x > 5 => println(s\"$x > 5\") \n",
    "    case _ if x > 1 => println(s\"$x > 1\")\n",
    "    case _ => println(s\"$x\")\n",
    "}"
   ]
  },
  {
   "cell_type": "code",
   "execution_count": 7,
   "metadata": {},
   "outputs": [
    {
     "name": "stdout",
     "output_type": "stream",
     "text": [
      "10 > 5\n"
     ]
    },
    {
     "data": {
      "text/plain": [
       "\u001b[36mx\u001b[39m: \u001b[32mInt\u001b[39m = \u001b[32m10\u001b[39m"
      ]
     },
     "execution_count": 7,
     "metadata": {},
     "output_type": "execute_result"
    }
   ],
   "source": [
    "// What should be the output?\n",
    "val x = 10\n",
    "x match {\n",
    "    case y if x > 5 => println(s\"$y > 5\") \n",
    "    case _ if x > 1 => println(s\"$x > 1\")\n",
    "    case _ => println(s\"$x\")\n",
    "}"
   ]
  },
  {
   "cell_type": "code",
   "execution_count": 8,
   "metadata": {},
   "outputs": [
    {
     "name": "stdout",
     "output_type": "stream",
     "text": [
      "10 is either 10 or 20 or 30\n"
     ]
    },
    {
     "data": {
      "text/plain": [
       "\u001b[36mx\u001b[39m: \u001b[32mInt\u001b[39m = \u001b[32m10\u001b[39m"
      ]
     },
     "execution_count": 8,
     "metadata": {},
     "output_type": "execute_result"
    }
   ],
   "source": [
    "// What should be the output?\n",
    "val x = 10\n",
    "x match {\n",
    "    case y@(10 | 20 | 30) => println(s\"$y is either 10 or 20 or 30\") \n",
    "    case _ => println(s\"$x\")\n",
    "}"
   ]
  },
  {
   "cell_type": "code",
   "execution_count": 9,
   "metadata": {},
   "outputs": [
    {
     "name": "stdout",
     "output_type": "stream",
     "text": [
      "10\n"
     ]
    },
    {
     "data": {
      "text/plain": [
       "\u001b[36mx\u001b[39m: \u001b[32mInt\u001b[39m = \u001b[32m10\u001b[39m"
      ]
     },
     "execution_count": 9,
     "metadata": {},
     "output_type": "execute_result"
    }
   ],
   "source": [
    "// What should be the output?\n",
    "val x = 10\n",
    "x match {\n",
    "    case y@(1 | 2 | 3) => println(s\"$y is either 1 or 2 or 3\") \n",
    "    case _ => println(s\"$x\")\n",
    "}"
   ]
  },
  {
   "cell_type": "code",
   "execution_count": 10,
   "metadata": {},
   "outputs": [
    {
     "name": "stdout",
     "output_type": "stream",
     "text": [
      "10 is either 1 or 2 or whatever\n"
     ]
    },
    {
     "data": {
      "text/plain": [
       "\u001b[36mx\u001b[39m: \u001b[32mInt\u001b[39m = \u001b[32m10\u001b[39m"
      ]
     },
     "execution_count": 10,
     "metadata": {},
     "output_type": "execute_result"
    }
   ],
   "source": [
    "// What should be the output?\n",
    "val x = 10\n",
    "x match {\n",
    "    case y@(1 | 2 | _) => println(s\"$y is either 1 or 2 or whatever\") \n",
    "    case _ => println(s\"$x\")\n",
    "}"
   ]
  },
  {
   "cell_type": "markdown",
   "metadata": {},
   "source": [
    "## Lists and Pattern Matching"
   ]
  },
  {
   "cell_type": "markdown",
   "metadata": {},
   "source": [
    "Our inductive structure of choice for this problem is a linked list. The below code defines the structure."
   ]
  },
  {
   "cell_type": "code",
   "execution_count": 11,
   "metadata": {},
   "outputs": [
    {
     "data": {
      "text/plain": [
       "defined \u001b[32mtrait\u001b[39m \u001b[36mNumList\u001b[39m\n",
       "defined \u001b[32mobject\u001b[39m \u001b[36mMyNil\u001b[39m\n",
       "defined \u001b[32mclass\u001b[39m \u001b[36mMyCons\u001b[39m"
      ]
     },
     "execution_count": 11,
     "metadata": {},
     "output_type": "execute_result"
    }
   ],
   "source": [
    "sealed trait NumList\n",
    "case object MyNil extends NumList\n",
    "case class MyCons(firstElement : Int, restOfList : NumList) extends NumList"
   ]
  },
  {
   "cell_type": "markdown",
   "metadata": {},
   "source": [
    "Since it's an inductive structure, we can write a grammar for it:\n",
    "\n",
    "$$\n",
    "\\begin{array}{rcl}\n",
    "    \\textbf{NumList} & \\rightarrow & MyNil \\\\\n",
    "                     &           | & MyCons(\\textbf{Int}, \\textbf{NumList}) \\\\\n",
    "\\end{array}\n",
    "$$"
   ]
  },
  {
   "cell_type": "markdown",
   "metadata": {},
   "source": [
    "### Exercise: Writing lists\n",
    "Write out the following lists with our `NumList` class.\n",
    "\n",
    "1. `[]` (The empty list)\n",
    "2. `[1, 2, 3]`"
   ]
  },
  {
   "cell_type": "code",
   "execution_count": 12,
   "metadata": {},
   "outputs": [
    {
     "data": {
      "text/plain": [
       "\u001b[36mans_1\u001b[39m: \u001b[32mMyNil\u001b[39m.type = MyNil\n",
       "\u001b[36mans_2\u001b[39m: \u001b[32mMyCons\u001b[39m = \u001b[33mMyCons\u001b[39m(\u001b[32m1\u001b[39m, \u001b[33mMyCons\u001b[39m(\u001b[32m2\u001b[39m, \u001b[33mMyCons\u001b[39m(\u001b[32m3\u001b[39m, MyNil)))"
      ]
     },
     "execution_count": 12,
     "metadata": {},
     "output_type": "execute_result"
    }
   ],
   "source": [
    "val ans_1 = MyNil\n",
    "val ans_2 = MyCons(1,MyCons(2,MyCons(3,MyNil)))"
   ]
  },
  {
   "cell_type": "markdown",
   "metadata": {},
   "source": [
    "### Exercise: Length of list\n",
    "Implement a `myLength` function for our list type using [pattern matching](https://docs.scala-lang.org/tour/pattern-matching.html)."
   ]
  },
  {
   "cell_type": "code",
   "execution_count": 13,
   "metadata": {},
   "outputs": [
    {
     "data": {
      "text/plain": [
       "defined \u001b[32mfunction\u001b[39m \u001b[36mmyLength\u001b[39m"
      ]
     },
     "execution_count": 13,
     "metadata": {},
     "output_type": "execute_result"
    }
   ],
   "source": [
    "// Is this function recursive?\n",
    "// Is it tail recursive?\n",
    "\n",
    "def myLength(list : NumList) : Int = {\n",
    "    list match {\n",
    "        case MyNil => 0\n",
    "        case MyCons(firstElement, restOfList) => 1 + myLength(restOfList)\n",
    "    }\n",
    "}"
   ]
  },
  {
   "cell_type": "code",
   "execution_count": null,
   "metadata": {},
   "outputs": [],
   "source": [
    "assert(myLength(MyNil) == 0)\n",
    "assert(myLength(MyCons(1, MyCons(2, MyNil))) == 2)"
   ]
  },
  {
   "cell_type": "markdown",
   "metadata": {},
   "source": [
    "### Exercise: Translate to built in lists\n",
    "Rewrite `length` to use [Scala's list class](https://www.scala-lang.org/api/current/scala/collection/immutable/List.html), which is very similar to the one defined above. The table below shows the equivalences:\n",
    "\n",
    "|`NumList`      | `List[Int]`|\n",
    "|---------------|------------|\n",
    "|`MyNil`        | `Nil`      |\n",
    "|`MyCons(a, b)` | `a :: b`   |"
   ]
  },
  {
   "cell_type": "code",
   "execution_count": 18,
   "metadata": {},
   "outputs": [
    {
     "data": {
      "text/plain": [
       "defined \u001b[32mfunction\u001b[39m \u001b[36mlength\u001b[39m"
      ]
     },
     "execution_count": 18,
     "metadata": {},
     "output_type": "execute_result"
    }
   ],
   "source": [
    "def length(list : List[Int]) : Int = {\n",
    "    list match {\n",
    "        case Nil => 0\n",
    "        case firstElement :: restOfList => 1 + length(restOfList)\n",
    "    }\n",
    "}"
   ]
  },
  {
   "cell_type": "code",
   "execution_count": 19,
   "metadata": {},
   "outputs": [],
   "source": [
    "assert(length(List()) == 0)\n",
    "assert(length(List(1, 2, 3)) == 3)"
   ]
  },
  {
   "cell_type": "markdown",
   "metadata": {},
   "source": [
    "## Abstract Syntax Trees (AST)\n",
    "We'll be reusing the AST for sets from the previous recitation (without the complement). For more on ASTs, see\n",
    "https://en.wikipedia.org/wiki/Abstract_syntax_tree\n",
    "\n",
    "$$\n",
    "\\begin{array}{rcl}\n",
    "    \\textbf{Set} & \\rightarrow & Empty \\\\\n",
    "                 &           | & Cons(\\textbf{Set}, \\textbf{Int}) \\\\\n",
    "                 &           | & Intersection(\\textbf{Set}, \\textbf{Set}) \\\\\n",
    "                 &           | & Union(\\textbf{Set}, \\textbf{Set}) \\\\\n",
    "                 &           | & Subtraction(\\textbf{Set}, \\textbf{Set}) \\\\\n",
    "\\end{array}\n",
    "$$"
   ]
  },
  {
   "cell_type": "code",
   "execution_count": 20,
   "metadata": {},
   "outputs": [
    {
     "data": {
      "text/plain": [
       "defined \u001b[32mtrait\u001b[39m \u001b[36mMySet\u001b[39m\n",
       "defined \u001b[32mobject\u001b[39m \u001b[36mEmpty\u001b[39m\n",
       "defined \u001b[32mclass\u001b[39m \u001b[36mCons\u001b[39m\n",
       "defined \u001b[32mclass\u001b[39m \u001b[36mIntersection\u001b[39m\n",
       "defined \u001b[32mclass\u001b[39m \u001b[36mUnion\u001b[39m\n",
       "defined \u001b[32mclass\u001b[39m \u001b[36mSubtraction\u001b[39m"
      ]
     },
     "execution_count": 20,
     "metadata": {},
     "output_type": "execute_result"
    }
   ],
   "source": [
    "sealed trait MySet\n",
    "case object Empty extends MySet\n",
    "case class Cons(s: MySet, n: Int) extends MySet\n",
    "case class Intersection(s1: MySet, s2: MySet) extends MySet\n",
    "case class Union(s1: MySet, s2: MySet) extends MySet\n",
    "case class Subtraction(s1: MySet, s2: MySet) extends MySet"
   ]
  },
  {
   "cell_type": "markdown",
   "metadata": {},
   "source": [
    "### Exercise: Interpreter\n",
    "\n",
    "Scala Set API -- https://docs.scala-lang.org/overviews/collections/sets.html\n",
    "\n",
    "Write an interpreter for the language of sets you've created. Some useful methods of Sets:\n",
    "\n",
    "```\n",
    "Set.+:           (Set[Int], Int)            => Set[Int]\n",
    "Set.intersect:   (Set[Int], Set[Int])       => Set[Int]\n",
    "Set.union:       (Set[Int], Set[Int])       => Set[Int]\n",
    "Set.diff:        (Set[Int], Set[Int])       => Set[Int]\n",
    "```"
   ]
  },
  {
   "cell_type": "code",
   "execution_count": 24,
   "metadata": {},
   "outputs": [
    {
     "data": {
      "text/plain": [
       "\u001b[32mimport \u001b[39m\u001b[36mscala.collection.immutable.HashSet\n",
       "\u001b[39m\n",
       "defined \u001b[32mfunction\u001b[39m \u001b[36meval\u001b[39m"
      ]
     },
     "execution_count": 24,
     "metadata": {},
     "output_type": "execute_result"
    }
   ],
   "source": [
    "import scala.collection.immutable.HashSet\n",
    "def eval(set_expression: MySet): Set[Int] = {\n",
    "    set_expression match {\n",
    "        case Empty => Set[Int]()\n",
    "        case Cons(s, n) => eval(s) + n\n",
    "        case Intersection(s1, s2) => eval(s1) & eval(s2)\n",
    "        case Union(s1, s2) => eval(s1) union eval(s2)\n",
    "        case Subtraction(s1, s2) => eval(s1) diff eval(s2)\n",
    "    }\n",
    "}"
   ]
  },
  {
   "cell_type": "code",
   "execution_count": 23,
   "metadata": {},
   "outputs": [
    {
     "data": {
      "text/plain": [
       "\u001b[36mset_1_2\u001b[39m: \u001b[32mCons\u001b[39m = \u001b[33mCons\u001b[39m(\u001b[33mCons\u001b[39m(Empty, \u001b[32m1\u001b[39m), \u001b[32m2\u001b[39m)\n",
       "\u001b[36mset_1_2_3\u001b[39m: \u001b[32mCons\u001b[39m = \u001b[33mCons\u001b[39m(\u001b[33mCons\u001b[39m(\u001b[33mCons\u001b[39m(Empty, \u001b[32m1\u001b[39m), \u001b[32m2\u001b[39m), \u001b[32m3\u001b[39m)\n",
       "\u001b[36mset_3\u001b[39m: \u001b[32mCons\u001b[39m = \u001b[33mCons\u001b[39m(Empty, \u001b[32m3\u001b[39m)"
      ]
     },
     "execution_count": 23,
     "metadata": {},
     "output_type": "execute_result"
    }
   ],
   "source": [
    "val set_1_2 = Cons(Cons(Empty, 1), 2)\n",
    "val set_1_2_3 = Cons(Cons(Cons(Empty, 1), 2), 3)\n",
    "val set_3 = Cons(Empty, 3)\n",
    "\n",
    "assert(eval(Empty) == Set())\n",
    "assert(eval(set_1_2) == Set(1, 2))\n",
    "assert(eval(Union(set_1_2, set_3)) == Set(1, 2, 3))\n",
    "assert(eval(Intersection(set_1_2, set_1_2_3)) == Set(1, 2))\n",
    "assert(eval(Subtraction(set_1_2, set_1_2_3)) == Set())"
   ]
  }
 ],
 "metadata": {
  "kernelspec": {
   "display_name": "Scala",
   "language": "scala",
   "name": "scala"
  },
  "language_info": {
   "codemirror_mode": "text/x-scala",
   "file_extension": ".sc",
   "mimetype": "text/x-scala",
   "name": "scala",
   "nbconvert_exporter": "script",
   "version": "2.13.3"
  }
 },
 "nbformat": 4,
 "nbformat_minor": 2
}
