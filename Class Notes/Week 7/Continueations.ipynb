{
 "cells": [
  {
   "cell_type": "code",
   "execution_count": 19,
   "metadata": {},
   "outputs": [
    {
     "name": "stdout",
     "output_type": "stream",
     "text": [
      "Solution: (5,8)\n"
     ]
    },
    {
     "data": {
      "text/html": [
       "<div class=\"jp-RenderedText\">\n",
       "<pre><code><span style=\"color: rgb(0, 187, 187)\"><span class=\"ansi-cyan-fg\">l1</span></span>: <span style=\"color: rgb(0, 187, 0)\"><span class=\"ansi-green-fg\">List</span></span>[<span style=\"color: rgb(0, 187, 0)\"><span class=\"ansi-green-fg\">Int</span></span>] = <span style=\"color: yellow\"><span class=\"ansi-yellow-fg\">List</span></span>(<span style=\"color: rgb(0, 187, 0)\"><span class=\"ansi-green-fg\">1</span></span>, <span style=\"color: rgb(0, 187, 0)\"><span class=\"ansi-green-fg\">2</span></span>, <span style=\"color: rgb(0, 187, 0)\"><span class=\"ansi-green-fg\">3</span></span>, <span style=\"color: rgb(0, 187, 0)\"><span class=\"ansi-green-fg\">4</span></span>, <span style=\"color: rgb(0, 187, 0)\"><span class=\"ansi-green-fg\">5</span></span>)\n",
       "<span style=\"color: rgb(0, 187, 187)\"><span class=\"ansi-cyan-fg\">l2</span></span>: <span style=\"color: rgb(0, 187, 0)\"><span class=\"ansi-green-fg\">List</span></span>[<span style=\"color: rgb(0, 187, 0)\"><span class=\"ansi-green-fg\">Int</span></span>] = <span style=\"color: yellow\"><span class=\"ansi-yellow-fg\">List</span></span>(<span style=\"color: rgb(0, 187, 0)\"><span class=\"ansi-green-fg\">4</span></span>, <span style=\"color: rgb(0, 187, 0)\"><span class=\"ansi-green-fg\">5</span></span>, <span style=\"color: rgb(0, 187, 0)\"><span class=\"ansi-green-fg\">6</span></span>, <span style=\"color: rgb(0, 187, 0)\"><span class=\"ansi-green-fg\">7</span></span>, <span style=\"color: rgb(0, 187, 0)\"><span class=\"ansi-green-fg\">8</span></span>)\n",
       "<span style=\"color: rgb(0, 187, 187)\"><span class=\"ansi-cyan-fg\">sols</span></span>: <span style=\"color: rgb(0, 187, 0)\"><span class=\"ansi-green-fg\">List</span></span>[(<span style=\"color: rgb(0, 187, 0)\"><span class=\"ansi-green-fg\">Int</span></span>, <span style=\"color: rgb(0, 187, 0)\"><span class=\"ansi-green-fg\">Int</span></span>)] = <span style=\"color: yellow\"><span class=\"ansi-yellow-fg\">List</span></span>(\n",
       "  (<span style=\"color: rgb(0, 187, 0)\"><span class=\"ansi-green-fg\">5</span></span>, <span style=\"color: rgb(0, 187, 0)\"><span class=\"ansi-green-fg\">8</span></span>),\n",
       "  (<span style=\"color: rgb(0, 187, 0)\"><span class=\"ansi-green-fg\">5</span></span>, <span style=\"color: rgb(0, 187, 0)\"><span class=\"ansi-green-fg\">7</span></span>),\n",
       "  (<span style=\"color: rgb(0, 187, 0)\"><span class=\"ansi-green-fg\">5</span></span>, <span style=\"color: rgb(0, 187, 0)\"><span class=\"ansi-green-fg\">6</span></span>),\n",
       "  (<span style=\"color: rgb(0, 187, 0)\"><span class=\"ansi-green-fg\">5</span></span>, <span style=\"color: rgb(0, 187, 0)\"><span class=\"ansi-green-fg\">5</span></span>),\n",
       "  (<span style=\"color: rgb(0, 187, 0)\"><span class=\"ansi-green-fg\">4</span></span>, <span style=\"color: rgb(0, 187, 0)\"><span class=\"ansi-green-fg\">8</span></span>),\n",
       "  (<span style=\"color: rgb(0, 187, 0)\"><span class=\"ansi-green-fg\">4</span></span>, <span style=\"color: rgb(0, 187, 0)\"><span class=\"ansi-green-fg\">7</span></span>),\n",
       "  (<span style=\"color: rgb(0, 187, 0)\"><span class=\"ansi-green-fg\">4</span></span>, <span style=\"color: rgb(0, 187, 0)\"><span class=\"ansi-green-fg\">6</span></span>),\n",
       "  (<span style=\"color: rgb(0, 187, 0)\"><span class=\"ansi-green-fg\">3</span></span>, <span style=\"color: rgb(0, 187, 0)\"><span class=\"ansi-green-fg\">8</span></span>),\n",
       "  (<span style=\"color: rgb(0, 187, 0)\"><span class=\"ansi-green-fg\">3</span></span>, <span style=\"color: rgb(0, 187, 0)\"><span class=\"ansi-green-fg\">7</span></span>),\n",
       "  (<span style=\"color: rgb(0, 187, 0)\"><span class=\"ansi-green-fg\">2</span></span>, <span style=\"color: rgb(0, 187, 0)\"><span class=\"ansi-green-fg\">8</span></span>)\n",
       ")\n",
       "defined <span style=\"color: rgb(0, 187, 0)\"><span class=\"ansi-green-fg\">function</span></span> <span style=\"color: rgb(0, 187, 187)\"><span class=\"ansi-cyan-fg\">chose</span></span>\n",
       "defined <span style=\"color: rgb(0, 187, 0)\"><span class=\"ansi-green-fg\">function</span></span> <span style=\"color: rgb(0, 187, 187)\"><span class=\"ansi-cyan-fg\">asrt</span></span>\n",
       "defined <span style=\"color: rgb(0, 187, 0)\"><span class=\"ansi-green-fg\">function</span></span> <span style=\"color: rgb(0, 187, 187)\"><span class=\"ansi-cyan-fg\">ret</span></span>\n",
       "defined <span style=\"color: rgb(0, 187, 0)\"><span class=\"ansi-green-fg\">function</span></span> <span style=\"color: rgb(0, 187, 187)\"><span class=\"ansi-cyan-fg\">print_sol</span></span></code></pre>\n",
       "</div>"
      ],
      "text/plain": [
       "\u001b[36ml1\u001b[39m: \u001b[32mList\u001b[39m[\u001b[32mInt\u001b[39m] = \u001b[33mList\u001b[39m(\u001b[32m1\u001b[39m, \u001b[32m2\u001b[39m, \u001b[32m3\u001b[39m, \u001b[32m4\u001b[39m, \u001b[32m5\u001b[39m)\n",
       "\u001b[36ml2\u001b[39m: \u001b[32mList\u001b[39m[\u001b[32mInt\u001b[39m] = \u001b[33mList\u001b[39m(\u001b[32m4\u001b[39m, \u001b[32m5\u001b[39m, \u001b[32m6\u001b[39m, \u001b[32m7\u001b[39m, \u001b[32m8\u001b[39m)\n",
       "\u001b[36msols\u001b[39m: \u001b[32mList\u001b[39m[(\u001b[32mInt\u001b[39m, \u001b[32mInt\u001b[39m)] = \u001b[33mList\u001b[39m(\n",
       "  (\u001b[32m5\u001b[39m, \u001b[32m8\u001b[39m),\n",
       "  (\u001b[32m5\u001b[39m, \u001b[32m7\u001b[39m),\n",
       "  (\u001b[32m5\u001b[39m, \u001b[32m6\u001b[39m),\n",
       "  (\u001b[32m5\u001b[39m, \u001b[32m5\u001b[39m),\n",
       "  (\u001b[32m4\u001b[39m, \u001b[32m8\u001b[39m),\n",
       "  (\u001b[32m4\u001b[39m, \u001b[32m7\u001b[39m),\n",
       "  (\u001b[32m4\u001b[39m, \u001b[32m6\u001b[39m),\n",
       "  (\u001b[32m3\u001b[39m, \u001b[32m8\u001b[39m),\n",
       "  (\u001b[32m3\u001b[39m, \u001b[32m7\u001b[39m),\n",
       "  (\u001b[32m2\u001b[39m, \u001b[32m8\u001b[39m)\n",
       ")\n",
       "defined \u001b[32mfunction\u001b[39m \u001b[36mchose\u001b[39m\n",
       "defined \u001b[32mfunction\u001b[39m \u001b[36masrt\u001b[39m\n",
       "defined \u001b[32mfunction\u001b[39m \u001b[36mret\u001b[39m\n",
       "defined \u001b[32mfunction\u001b[39m \u001b[36mprint_sol\u001b[39m"
      ]
     },
     "metadata": {},
     "output_type": "display_data"
    }
   ],
   "source": [
    "val l1 = List(1,2,3,4,5)\n",
    "val l2 = List(4,5,6,7,8)\n",
    "\n",
    "var sols:List[(Int,Int)] = Nil\n",
    "\n",
    "// chose x in l1 and y in ls so that x + y >= 10\n",
    "\n",
    "def chose(l:List[Int], k: Int => Unit) = {// k is the continuation of chose function\n",
    "    l.foreach(k)\n",
    "}\n",
    "\n",
    "//v could be result of x+y >= 10 for some x and y\n",
    "def asrt(v:Boolean, k:() => Unit) = {\n",
    "    if(v){\n",
    "        k()\n",
    "    }\n",
    "}\n",
    "\n",
    "def ret(v:(Int,Int)):Unit = {// this function is going to store sol\n",
    "    sols = v::sols\n",
    "}\n",
    "\n",
    "def print_sol():Unit = {\n",
    "    sols match{\n",
    "        case Nil => println(\"Did not find anything\")\n",
    "        case (x,y)::_ => println(s\"Solution: ($x,$y)\")\n",
    "    }\n",
    "}\n",
    "\n",
    "//chose x in l1 and y in l2 s.t x+y >= 10\n",
    "\n",
    "chose(l1, x => {\n",
    "    chose(l2, y => {\n",
    "        asrt(x+y >= 10, () => {ret(x,y)})\n",
    "    })\n",
    "})\n",
    "\n",
    "print_sol()"
   ]
  },
  {
   "cell_type": "code",
   "execution_count": 5,
   "metadata": {},
   "outputs": [
    {
     "data": {
      "text/plain": [
       "defined \u001b[32mfunction\u001b[39m \u001b[36mprint_hello\u001b[39m"
      ]
     },
     "execution_count": 5,
     "metadata": {},
     "output_type": "execute_result"
    }
   ],
   "source": [
    "def print_hello() = {\n",
    "    println(\"Hello\")\n",
    "}"
   ]
  },
  {
   "cell_type": "code",
   "execution_count": 20,
   "metadata": {},
   "outputs": [
    {
     "data": {
      "text/plain": [
       "defined \u001b[32mclass\u001b[39m \u001b[36mDFSearch\u001b[39m"
      ]
     },
     "execution_count": 20,
     "metadata": {},
     "output_type": "execute_result"
    }
   ],
   "source": [
    "class DFSearch[S]{ // more general solution \n",
    "    var sol:List[S] = Nil\n",
    "    \n",
    "    def chose[T](lst:List[T], k: T => Unit): Unit = {\n",
    "        lst.foreach(k)\n",
    "    }\n",
    "    \n",
    "    def asrt(v: Boolean, k: () => Unit): Unit = {\n",
    "        if(v){\n",
    "            k()\n",
    "        }\n",
    "    }\n",
    "    \n",
    "    def ret(v:S):Unit = {\n",
    "        sol = v::sol\n",
    "    }\n",
    "    \n",
    "    def print_sol():Unit = {\n",
    "        sols match{\n",
    "            case Nil => println(\"Did not find anything\")\n",
    "            case s::_ => println(s\"Solution: $s\")\n",
    "        }\n",
    "    }\n",
    "\n",
    "}"
   ]
  },
  {
   "cell_type": "code",
   "execution_count": 21,
   "metadata": {},
   "outputs": [
    {
     "name": "stdout",
     "output_type": "stream",
     "text": [
      "Solution: (5,8)\n"
     ]
    },
    {
     "data": {
      "text/plain": [
       "\u001b[36ml1\u001b[39m: \u001b[32mList\u001b[39m[\u001b[32mInt\u001b[39m] = \u001b[33mList\u001b[39m(\u001b[32m3\u001b[39m, \u001b[32m4\u001b[39m, \u001b[32m5\u001b[39m, \u001b[32m6\u001b[39m, \u001b[32m7\u001b[39m, \u001b[32m8\u001b[39m)\n",
       "\u001b[36ml2\u001b[39m: \u001b[32mList\u001b[39m[\u001b[32mInt\u001b[39m] = \u001b[33mList\u001b[39m(\u001b[32m4\u001b[39m, \u001b[32m5\u001b[39m, \u001b[32m6\u001b[39m, \u001b[32m7\u001b[39m, \u001b[32m8\u001b[39m, \u001b[32m9\u001b[39m, \u001b[32m10\u001b[39m)\n",
       "\u001b[36ml3\u001b[39m: \u001b[32mList\u001b[39m[\u001b[32mInt\u001b[39m] = \u001b[33mList\u001b[39m(\u001b[32m5\u001b[39m, \u001b[32m6\u001b[39m, \u001b[32m7\u001b[39m, \u001b[32m8\u001b[39m, \u001b[32m9\u001b[39m, \u001b[32m10\u001b[39m, \u001b[32m11\u001b[39m)\n",
       "\u001b[36ms\u001b[39m: \u001b[32mDFSearch\u001b[39m[(\u001b[32mInt\u001b[39m, \u001b[32mInt\u001b[39m, \u001b[32mInt\u001b[39m)] = ammonite.$sess.cmd19$Helper$DFSearch@5d1ac4f8"
      ]
     },
     "execution_count": 21,
     "metadata": {},
     "output_type": "execute_result"
    }
   ],
   "source": [
    "val l1 = List(3,4,5,6,7,8)\n",
    "val l2 = List(4,5,6,7,8,9,10)\n",
    "val l3 = List(5,6,7,8,9,10,11)\n",
    "\n",
    "val s = new DFSearch[(Int,Int,Int)]();\n",
    "\n",
    "s.chose(l1,(x:Int) => {\n",
    "    s.chose(l2, (y:Int) => {\n",
    "        s.chose(l3, (z:Int) => {\n",
    "            s.asrt(x*x + y*y == z*z, () => {s.ret(x,y,z)})\n",
    "        })\n",
    "    })\n",
    "})\n",
    "\n",
    "s.print_sol()"
   ]
  },
  {
   "cell_type": "code",
   "execution_count": 3,
   "metadata": {},
   "outputs": [
    {
     "data": {
      "text/plain": [
       "\u001b[32mimport \u001b[39m\u001b[36mscala.annotation.tailrec\n",
       "\n",
       "\u001b[39m\n",
       "defined \u001b[32mfunction\u001b[39m \u001b[36mfactorial\u001b[39m\n",
       "defined \u001b[32mfunction\u001b[39m \u001b[36mfactorial_k\u001b[39m"
      ]
     },
     "execution_count": 3,
     "metadata": {},
     "output_type": "execute_result"
    }
   ],
   "source": [
    "import scala.annotation.tailrec\n",
    "\n",
    "def factorial(n:Int): Int = {\n",
    "    if(n <= 1){1}\n",
    "    else{\n",
    "        n * factorial(n-1)\n",
    "    }\n",
    "} //regular\n",
    "\n",
    "@tailrec\n",
    "def factorial_k(n:Int,k:Int => Int): Int = {\n",
    "    if(n <= 1){k(1)}\n",
    "    else{\n",
    "        factorial_k(n-1, (v:Int) => {\n",
    "            k(n*v)\n",
    "        })\n",
    "    }\n",
    "}"
   ]
  },
  {
   "cell_type": "code",
   "execution_count": 3,
   "metadata": {},
   "outputs": [
    {
     "name": "stderr",
     "output_type": "stream",
     "text": [
      "cmd3.sc:17: could not optimize @tailrec annotated method fib_k: it contains a recursive call not in tail position\n",
      "            fib_k(n-2,v2 => {\n",
      "                 ^Compilation Failed"
     ]
    },
    {
     "ename": "",
     "evalue": "",
     "output_type": "error",
     "traceback": [
      "Compilation Failed"
     ]
    }
   ],
   "source": [
    "import scala.annotation.tailrec\n",
    "def fib(n:Int): Int = {\n",
    "    if (n < 2){1}\n",
    "    else{\n",
    "        val v1 = fib(n-1)\n",
    "        val v2 = fib(n-2)\n",
    "        v1+v2\n",
    "    }\n",
    "}\n",
    "\n",
    "@tailrec\n",
    "def fib_k(n:Int, k: Int => Int): Int = {\n",
    "    if(n < 2){\n",
    "        k(1)\n",
    "    }else{\n",
    "        fib_k(n-1,v1 => {\n",
    "            fib_k(n-2,v2 => {\n",
    "                k(v1+v2)\n",
    "            })\n",
    "        })\n",
    "    }\n",
    "}"
   ]
  },
  {
   "cell_type": "code",
   "execution_count": 3,
   "metadata": {},
   "outputs": [],
   "source": [
    "//Polymorphic Continuations\n",
    "\n"
   ]
  },
  {
   "cell_type": "code",
   "execution_count": null,
   "metadata": {},
   "outputs": [],
   "source": []
  },
  {
   "cell_type": "code",
   "execution_count": null,
   "metadata": {},
   "outputs": [],
   "source": []
  },
  {
   "cell_type": "code",
   "execution_count": null,
   "metadata": {},
   "outputs": [],
   "source": []
  },
  {
   "cell_type": "code",
   "execution_count": null,
   "metadata": {},
   "outputs": [],
   "source": []
  }
 ],
 "metadata": {
  "kernelspec": {
   "display_name": "Scala",
   "language": "scala",
   "name": "scala"
  },
  "language_info": {
   "codemirror_mode": "text/x-scala",
   "file_extension": ".sc",
   "mimetype": "text/x-scala",
   "name": "scala",
   "nbconvert_exporter": "script",
   "version": "2.13.3"
  }
 },
 "nbformat": 4,
 "nbformat_minor": 4
}
