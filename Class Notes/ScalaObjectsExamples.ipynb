{
 "cells": [
  {
   "cell_type": "code",
   "execution_count": 9,
   "metadata": {},
   "outputs": [
    {
     "data": {
      "text/plain": [
       "defined \u001b[32mclass\u001b[39m \u001b[36mEmployee\u001b[39m"
      ]
     },
     "execution_count": 9,
     "metadata": {},
     "output_type": "execute_result"
    }
   ],
   "source": [
    "class Employee(val id: Int, \n",
    "               val name: String, \n",
    "               val pos: String){ //class parameters\n",
    "    \n",
    "    println(s\"Hello I just hired a new employee $name!\")\n",
    "\n",
    "    private var salary = 0\n",
    "    \n",
    "    private def incrementSalary = {\n",
    "        salary = salary + 1\n",
    "    } \n",
    "    \n",
    "    def getSalary = {\n",
    "        salary \n",
    "    }\n",
    "    \n",
    "    def getSalary(printmsg: Boolean)= {\n",
    "        if(printmsg){\n",
    "            println(s\"Salary = $salary\")\n",
    "        }\n",
    "    }\n",
    "    def proformanceBonous = {\n",
    "        incrementSalary\n",
    "        println(s\"Bravo: $name you have received a bonus \")\n",
    "    }\n",
    "    salary = 10000\n",
    "    \n",
    "}"
   ]
  },
  {
   "cell_type": "code",
   "execution_count": 10,
   "metadata": {},
   "outputs": [
    {
     "name": "stdout",
     "output_type": "stream",
     "text": [
      "Hello I just hired a new employee Myron Updike!\n"
     ]
    },
    {
     "data": {
      "text/plain": [
       "\u001b[36me1\u001b[39m: \u001b[32mEmployee\u001b[39m = ammonite.$sess.cmd8$Helper$Employee@5c861d3b"
      ]
     },
     "execution_count": 10,
     "metadata": {},
     "output_type": "execute_result"
    }
   ],
   "source": [
    "val e1 = new Employee(10, \"Myron Updike\", \"Chief Janitor\")"
   ]
  },
  {
   "cell_type": "code",
   "execution_count": 11,
   "metadata": {},
   "outputs": [
    {
     "data": {
      "text/plain": [
       "defined \u001b[32mobject\u001b[39m \u001b[36mEmployeeFactory\u001b[39m"
      ]
     },
     "execution_count": 11,
     "metadata": {},
     "output_type": "execute_result"
    }
   ],
   "source": [
    "object EmployeeFactory {\n",
    "    var nextHireID = 0\n",
    "    def makeEmployee(name: String, pos: String ): Employee = {\n",
    "        nextHireID = nextHireID + 1\n",
    "        new Employee(nextHireID,name,pos)\n",
    "    }\n",
    "}"
   ]
  },
  {
   "cell_type": "code",
   "execution_count": 12,
   "metadata": {},
   "outputs": [
    {
     "name": "stdout",
     "output_type": "stream",
     "text": [
      "Hello I just hired a new employee Jane Bird!\n"
     ]
    },
    {
     "data": {
      "text/plain": [
       "\u001b[36mres11\u001b[39m: \u001b[32mEmployee\u001b[39m = ammonite.$sess.cmd8$Helper$Employee@645efcda"
      ]
     },
     "execution_count": 12,
     "metadata": {},
     "output_type": "execute_result"
    }
   ],
   "source": [
    "EmployeeFactory.makeEmployee(\"Jane Bird\",\"Chief Flight Engineer\")"
   ]
  },
  {
   "cell_type": "code",
   "execution_count": null,
   "metadata": {},
   "outputs": [],
   "source": []
  }
 ],
 "metadata": {
  "kernelspec": {
   "display_name": "Scala",
   "language": "scala",
   "name": "scala"
  },
  "language_info": {
   "codemirror_mode": "text/x-scala",
   "file_extension": ".sc",
   "mimetype": "text/x-scala",
   "name": "scala",
   "nbconvert_exporter": "script",
   "version": "2.13.3"
  }
 },
 "nbformat": 4,
 "nbformat_minor": 4
}
