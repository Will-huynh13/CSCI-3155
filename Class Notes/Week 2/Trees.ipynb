{
 "cells": [
  {
   "cell_type": "code",
   "execution_count": 1,
   "metadata": {},
   "outputs": [
    {
     "data": {
      "text/plain": [
       "defined \u001b[32mtrait\u001b[39m \u001b[36mTree\u001b[39m\n",
       "defined \u001b[32mclass\u001b[39m \u001b[36mNode\u001b[39m\n",
       "defined \u001b[32mobject\u001b[39m \u001b[36mLeaf\u001b[39m"
      ]
     },
     "execution_count": 1,
     "metadata": {},
     "output_type": "execute_result"
    }
   ],
   "source": [
    "sealed trait Tree\n",
    "case class Node(j: Int,left: Tree, right: Tree) extends Tree\n",
    "case object Leaf extends Tree "
   ]
  },
  {
   "cell_type": "code",
   "execution_count": 2,
   "metadata": {},
   "outputs": [
    {
     "data": {
      "text/plain": [
       "\u001b[36mt1\u001b[39m: \u001b[32mNode\u001b[39m = \u001b[33mNode\u001b[39m(\u001b[32m2\u001b[39m, Leaf, Leaf)\n",
       "\u001b[36mt2\u001b[39m: \u001b[32mNode\u001b[39m = \u001b[33mNode\u001b[39m(\u001b[32m1\u001b[39m, Leaf, Leaf)\n",
       "\u001b[36mt3\u001b[39m: \u001b[32mNode\u001b[39m = \u001b[33mNode\u001b[39m(\u001b[32m3\u001b[39m, \u001b[33mNode\u001b[39m(\u001b[32m2\u001b[39m, Leaf, Leaf), \u001b[33mNode\u001b[39m(\u001b[32m1\u001b[39m, Leaf, Leaf))"
      ]
     },
     "execution_count": 2,
     "metadata": {},
     "output_type": "execute_result"
    }
   ],
   "source": [
    "val t1 = Node(2, Leaf,Leaf)\n",
    "val t2 = Node(1, Leaf,Leaf)\n",
    "val t3 = Node(3, t1,t2)"
   ]
  },
  {
   "cell_type": "code",
   "execution_count": 4,
   "metadata": {},
   "outputs": [
    {
     "data": {
      "text/plain": [
       "defined \u001b[32mfunction\u001b[39m \u001b[36msumOfAllKeys\u001b[39m"
      ]
     },
     "execution_count": 4,
     "metadata": {},
     "output_type": "execute_result"
    }
   ],
   "source": [
    "def sumOfAllKeys(t: Tree): Int = t match{\n",
    "    case Node(j,left,right) => {\n",
    "        println(s\"In Node: j = $j\")\n",
    "        j + sumOfAllKeys(left) + sumOfAllKeys(right)\n",
    "    }\n",
    "    case Leaf => {println(\"Leaf!\"); 0}\n",
    "}"
   ]
  },
  {
   "cell_type": "code",
   "execution_count": 5,
   "metadata": {},
   "outputs": [
    {
     "name": "stdout",
     "output_type": "stream",
     "text": [
      "In Node: j = 3\n",
      "In Node: j = 2\n",
      "Leaf!\n",
      "Leaf!\n",
      "In Node: j = 1\n",
      "Leaf!\n",
      "Leaf!\n"
     ]
    },
    {
     "data": {
      "text/plain": [
       "\u001b[36mres4\u001b[39m: \u001b[32mInt\u001b[39m = \u001b[32m6\u001b[39m"
      ]
     },
     "execution_count": 5,
     "metadata": {},
     "output_type": "execute_result"
    }
   ],
   "source": [
    "sumOfAllKeys(t3)"
   ]
  },
  {
   "cell_type": "code",
   "execution_count": 7,
   "metadata": {},
   "outputs": [
    {
     "data": {
      "text/plain": [
       "defined \u001b[32mfunction\u001b[39m \u001b[36mcheckAllNodesAreLessThan\u001b[39m"
      ]
     },
     "execution_count": 7,
     "metadata": {},
     "output_type": "execute_result"
    }
   ],
   "source": [
    "//first helper function\n",
    "def checkAllNodesAreLessThan(t: Tree, k: Int): Boolean = t match {\n",
    "    case Leaf => true\n",
    "    case Node(j,left,right) if j >= k => false\n",
    "    case Node(_,left,right) => {\n",
    "        checkAllNodesAreLessThan(left,k) && checkAllNodesAreLessThan(right,k)\n",
    "    }\n",
    "}"
   ]
  },
  {
   "cell_type": "code",
   "execution_count": 9,
   "metadata": {},
   "outputs": [
    {
     "data": {
      "text/plain": [
       "defined \u001b[32mfunction\u001b[39m \u001b[36mcheckAllNodesHaveProp\u001b[39m"
      ]
     },
     "execution_count": 9,
     "metadata": {},
     "output_type": "execute_result"
    }
   ],
   "source": [
    "//first helper function\n",
    "def checkAllNodesHaveProp(pred: Int => Boolean, t: Tree, k: Int): Boolean = t match {\n",
    "    case Leaf => true\n",
    "    case Node(j,left,right) if !pred(j) => false\n",
    "    case Node(_,left,right) => {\n",
    "        checkAllNodesHaveProp(pred,left,k) && \n",
    "        checkAllNodesHaveProp(pred,right,k)\n",
    "    }\n",
    "}"
   ]
  },
  {
   "cell_type": "code",
   "execution_count": 9,
   "metadata": {},
   "outputs": [
    {
     "name": "stderr",
     "output_type": "stream",
     "text": [
      "cmd9.sc:5: not enough arguments for method checkAllNodesHaveProp: (pred: Int => Boolean, t: ammonite.$sess.cmd8.wrapper.cmd0.Tree, k: Int): Boolean.\n",
      "Unspecified value parameter k.\n",
      "        checkAllNodesHaveProp((j: Int) => j < key,left) &&\n",
      "                             ^cmd9.sc:6: not enough arguments for method checkAllNodesHaveProp: (pred: Int => Boolean, t: ammonite.$sess.cmd8.wrapper.cmd0.Tree, k: Int): Boolean.\n",
      "Unspecified value parameter k.\n",
      "        checkAllNodesHaveProp((j: Int) => j > key,right) &&\n",
      "                             ^Compilation Failed"
     ]
    },
    {
     "ename": "",
     "evalue": "",
     "output_type": "error",
     "traceback": [
      "Compilation Failed"
     ]
    }
   ],
   "source": [
    "def isBST(t: Tree): Boolean = t match {\n",
    "    case Leaf => true\n",
    "    case Node(key,left,right) => {\n",
    "        // need to check that all elements in left < k\n",
    "        checkAllNodesHaveProp((j: Int) => j < key,left) &&\n",
    "        checkAllNodesHaveProp((j: Int) => j > key,right) &&\n",
    "        isBST(left) && isBST(right)\n",
    "    }\n",
    "}"
   ]
  },
  {
   "cell_type": "code",
   "execution_count": 8,
   "metadata": {},
   "outputs": [
    {
     "name": "stderr",
     "output_type": "stream",
     "text": [
      "cmd8.sc:2: not found: value isBst\n",
      "val res8_1 = isBst(t3)\n",
      "             ^Compilation Failed"
     ]
    },
    {
     "ename": "",
     "evalue": "",
     "output_type": "error",
     "traceback": [
      "Compilation Failed"
     ]
    }
   ],
   "source": [
    "println(t3)\n",
    "isBst(t3)"
   ]
  },
  {
   "cell_type": "code",
   "execution_count": null,
   "metadata": {},
   "outputs": [],
   "source": []
  },
  {
   "cell_type": "code",
   "execution_count": null,
   "metadata": {},
   "outputs": [],
   "source": []
  },
  {
   "cell_type": "code",
   "execution_count": null,
   "metadata": {},
   "outputs": [],
   "source": []
  }
 ],
 "metadata": {
  "kernelspec": {
   "display_name": "Scala",
   "language": "scala",
   "name": "scala"
  },
  "language_info": {
   "codemirror_mode": "text/x-scala",
   "file_extension": ".sc",
   "mimetype": "text/x-scala",
   "name": "scala",
   "nbconvert_exporter": "script",
   "version": "2.13.3"
  }
 },
 "nbformat": 4,
 "nbformat_minor": 4
}
