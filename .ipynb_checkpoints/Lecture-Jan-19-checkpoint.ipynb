{
 "cells": [
  {
   "cell_type": "markdown",
   "metadata": {},
   "source": [
    "Scala is \"built on top of the Java Virtual Machine (JVM)\".\n",
    "    - Scala code compiles Java Byte Code.\n",
    "    - With respect to Java --> complete interoperability.\n",
    "    - Scala --> Apache Spark\n",
    "    - Scalaa --> Domain Specific Languages."
   ]
  }
 ],
 "metadata": {
  "kernelspec": {
   "display_name": "Scala",
   "language": "scala",
   "name": "scala"
  },
  "language_info": {
   "codemirror_mode": "text/x-scala",
   "file_extension": ".sc",
   "mimetype": "text/x-scala",
   "name": "scala",
   "nbconvert_exporter": "script",
   "version": "2.13.3"
  }
 },
 "nbformat": 4,
 "nbformat_minor": 4
}
